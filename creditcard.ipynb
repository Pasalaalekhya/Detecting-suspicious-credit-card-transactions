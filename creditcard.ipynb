{
 "cells": [
  {
   "cell_type": "code",
   "execution_count": 1,
   "id": "78acf422-7687-48ac-b4fc-64bd2107af47",
   "metadata": {},
   "outputs": [
    {
     "name": "stdout",
     "output_type": "stream",
     "text": [
      "<class 'pandas.core.frame.DataFrame'>\n",
      "RangeIndex: 284807 entries, 0 to 284806\n",
      "Data columns (total 31 columns):\n",
      " #   Column  Non-Null Count   Dtype  \n",
      "---  ------  --------------   -----  \n",
      " 0   Time    284807 non-null  float64\n",
      " 1   V1      284807 non-null  float64\n",
      " 2   V2      284807 non-null  float64\n",
      " 3   V3      284807 non-null  float64\n",
      " 4   V4      284807 non-null  float64\n",
      " 5   V5      284807 non-null  float64\n",
      " 6   V6      284807 non-null  float64\n",
      " 7   V7      284807 non-null  float64\n",
      " 8   V8      284807 non-null  float64\n",
      " 9   V9      284807 non-null  float64\n",
      " 10  V10     284807 non-null  float64\n",
      " 11  V11     284807 non-null  float64\n",
      " 12  V12     284807 non-null  float64\n",
      " 13  V13     284807 non-null  float64\n",
      " 14  V14     284807 non-null  float64\n",
      " 15  V15     284807 non-null  float64\n",
      " 16  V16     284807 non-null  float64\n",
      " 17  V17     284807 non-null  float64\n",
      " 18  V18     284807 non-null  float64\n",
      " 19  V19     284807 non-null  float64\n",
      " 20  V20     284807 non-null  float64\n",
      " 21  V21     284807 non-null  float64\n",
      " 22  V22     284807 non-null  float64\n",
      " 23  V23     284807 non-null  float64\n",
      " 24  V24     284807 non-null  float64\n",
      " 25  V25     284807 non-null  float64\n",
      " 26  V26     284807 non-null  float64\n",
      " 27  V27     284807 non-null  float64\n",
      " 28  V28     284807 non-null  float64\n",
      " 29  Amount  284807 non-null  float64\n",
      " 30  Class   284807 non-null  int64  \n",
      "dtypes: float64(30), int64(1)\n",
      "memory usage: 67.4 MB\n",
      "   Time        V1        V2        V3        V4        V5        V6        V7  \\\n",
      "0   0.0 -1.359807 -0.072781  2.536347  1.378155 -0.338321  0.462388  0.239599   \n",
      "1   0.0  1.191857  0.266151  0.166480  0.448154  0.060018 -0.082361 -0.078803   \n",
      "2   1.0 -1.358354 -1.340163  1.773209  0.379780 -0.503198  1.800499  0.791461   \n",
      "3   1.0 -0.966272 -0.185226  1.792993 -0.863291 -0.010309  1.247203  0.237609   \n",
      "4   2.0 -1.158233  0.877737  1.548718  0.403034 -0.407193  0.095921  0.592941   \n",
      "\n",
      "         V8        V9  ...       V21       V22       V23       V24       V25  \\\n",
      "0  0.098698  0.363787  ... -0.018307  0.277838 -0.110474  0.066928  0.128539   \n",
      "1  0.085102 -0.255425  ... -0.225775 -0.638672  0.101288 -0.339846  0.167170   \n",
      "2  0.247676 -1.514654  ...  0.247998  0.771679  0.909412 -0.689281 -0.327642   \n",
      "3  0.377436 -1.387024  ... -0.108300  0.005274 -0.190321 -1.175575  0.647376   \n",
      "4 -0.270533  0.817739  ... -0.009431  0.798278 -0.137458  0.141267 -0.206010   \n",
      "\n",
      "        V26       V27       V28  Amount  Class  \n",
      "0 -0.189115  0.133558 -0.021053  149.62      0  \n",
      "1  0.125895 -0.008983  0.014724    2.69      0  \n",
      "2 -0.139097 -0.055353 -0.059752  378.66      0  \n",
      "3 -0.221929  0.062723  0.061458  123.50      0  \n",
      "4  0.502292  0.219422  0.215153   69.99      0  \n",
      "\n",
      "[5 rows x 31 columns]\n"
     ]
    }
   ],
   "source": [
    "#Week 1: Project Kickoff and Dataset Identification\n",
    "# Import necessary libraries\n",
    "import numpy as np\n",
    "import pandas as pd\n",
    "import seaborn as sns\n",
    "from sklearn.utils import resample\n",
    "from sklearn import metrics\n",
    "import matplotlib.pyplot as plt\n",
    "from sklearn.model_selection import train_test_split\n",
    "from sklearn.model_selection import cross_validate\n",
    "from sklearn.linear_model import LogisticRegression\n",
    "from sklearn.metrics import confusion_matrix, roc_curve, roc_auc_score\n",
    "from imblearn.over_sampling import SMOTE\n",
    "from sklearn.preprocessing import StandardScaler\n",
    "import warnings\n",
    "from sklearn.neighbors import KNeighborsClassifier\n",
    "from sklearn.tree import DecisionTreeClassifier\n",
    "from sklearn.ensemble import RandomForestClassifier\n",
    "from xgboost import XGBClassifier\n",
    "warnings.filterwarnings(\"ignore\", message=\"numpy.dtype size changed\")\n",
    "warnings.filterwarnings(\"ignore\", message=\"numpy.ufunc size changed\")\n",
    "\n",
    "# Load dataset\n",
    "df = pd.read_csv(r'C:\\Users\\alekh\\OneDrive\\Desktop\\creditcard.csv')\n",
    "\n",
    "# Display basic information\n",
    "df.info()\n",
    "print(df.head())"
   ]
  },
  {
   "cell_type": "code",
   "execution_count": 2,
   "id": "92d1585c-2531-4a62-980f-3089fdaba69f",
   "metadata": {},
   "outputs": [
    {
     "name": "stdout",
     "output_type": "stream",
     "text": [
      "Time      0\n",
      "V1        0\n",
      "V2        0\n",
      "V3        0\n",
      "V4        0\n",
      "V5        0\n",
      "V6        0\n",
      "V7        0\n",
      "V8        0\n",
      "V9        0\n",
      "V10       0\n",
      "V11       0\n",
      "V12       0\n",
      "V13       0\n",
      "V14       0\n",
      "V15       0\n",
      "V16       0\n",
      "V17       0\n",
      "V18       0\n",
      "V19       0\n",
      "V20       0\n",
      "V21       0\n",
      "V22       0\n",
      "V23       0\n",
      "V24       0\n",
      "V25       0\n",
      "V26       0\n",
      "V27       0\n",
      "V28       0\n",
      "Amount    0\n",
      "Class     0\n",
      "dtype: int64\n",
      "Class distribution before SMOTE:\n",
      " Class\n",
      "0    283253\n",
      "1       473\n",
      "Name: count, dtype: int64\n"
     ]
    },
    {
     "data": {
      "image/png": "[encoded data removed]",
      "text/plain": [
       "<Figure size 600x400 with 1 Axes>"
      ]
     },
     "metadata": {},
     "output_type": "display_data"
    }
   ],
   "source": [
    "#Week 2: Data Exploration and Cleaning\n",
    "\n",
    "# Check for missing values\n",
    "print(df.isnull().sum())\n",
    "\n",
    "# Drop duplicate transactions (if any)\n",
    "df = df.drop_duplicates()\n",
    "\n",
    "# Visualizing class distribution before SMOTE\n",
    "class_counts = df['Class'].value_counts()\n",
    "print(\"Class distribution before SMOTE:\\n\", class_counts)\n",
    "\n",
    "# Visualization\n",
    "plt.figure(figsize=(6, 4))\n",
    "ax = sns.countplot(x='Class', data=df, hue='Class', palette='coolwarm', legend=False)\n",
    "\n",
    "for p in ax.patches:\n",
    "    ax.annotate(f'{p.get_height()}', (p.get_x() + p.get_width() / 2, p.get_height()), \n",
    "                ha='center', va='bottom', fontsize=10, color='black')\n",
    "\n",
    "plt.yscale('log')\n",
    "plt.title(\"Distribution of Transactions (0: Legit, 1: Fraudulent) - Log Scale\")\n",
    "plt.xlabel(\"Class\")\n",
    "plt.ylabel(\"Count (log scale)\")\n",
    "plt.show()"
   ]
  },
  {
   "cell_type": "code",
   "execution_count": 3,
   "id": "f4b6b59d-b78a-478f-88a3-8d564a9b17e8",
   "metadata": {},
   "outputs": [
    {
     "name": "stdout",
     "output_type": "stream",
     "text": [
      "   Time  Time_Hour\n",
      "0   0.0        0.0\n",
      "1   0.0        0.0\n",
      "2   1.0        0.0\n",
      "3   1.0        0.0\n",
      "4   2.0        0.0\n"
     ]
    }
   ],
   "source": [
    "#Week 3: Feature Engineering\n",
    "# Creating a new feature: Convert transaction time from seconds to hours\n",
    "df['Time_Hour'] = df['Time'] // 3600  # Convert seconds into hours\n",
    "\n",
    "# Display first few rows to verify the new feature\n",
    "print(df[['Time', 'Time_Hour']].head())\n",
    "\n"
   ]
  },
  {
   "cell_type": "code",
   "execution_count": 4,
   "id": "0aa341a1-99d4-4d50-b861-093db4d3c4df",
   "metadata": {},
   "outputs": [
    {
     "name": "stdout",
     "output_type": "stream",
     "text": [
      "Resampled dataset shape:  (566506, 31)\n",
      "Train shape:  (453204, 31) Test shape:  (113302, 31)\n"
     ]
    }
   ],
   "source": [
    "#Week 4: Model Selection and Initial Setup\n",
    "\n",
    "# Splitting data into features and labels\n",
    "X = df.drop(columns=['Class'], axis=1)\n",
    "Y = df['Class']\n",
    "\n",
    "# Handling class imbalance using SMOTE\n",
    "smote = SMOTE(random_state=42)\n",
    "X_resampled, Y_resampled = smote.fit_resample(X, Y)\n",
    "\n",
    "print(\"Resampled dataset shape: \", X_resampled.shape)\n",
    "\n",
    "# Splitting into train and test sets\n",
    "X_train, X_test, Y_train, Y_test = train_test_split(X_resampled, Y_resampled, test_size=0.2, stratify=Y_resampled, random_state=2)\n",
    "print(\"Train shape: \", X_train.shape, \"Test shape: \", X_test.shape)\n"
   ]
  },
  {
   "cell_type": "code",
   "execution_count": 6,
   "id": "84a93977-f677-464f-acd3-01c54145999f",
   "metadata": {},
   "outputs": [
    {
     "name": "stdout",
     "output_type": "stream",
     "text": [
      "Confusion matrix for Normal Logistic Regression\n",
      "[[56107   544]\n",
      " [ 1822 54829]]\n",
      "AUC for Normal Logistic Regression: 0.997\n"
     ]
    },
    {
     "data": {
      "image/png": "[encoded data removed]",
      "text/plain": [
       "<Figure size 640x480 with 1 Axes>"
      ]
     },
     "metadata": {},
     "output_type": "display_data"
    }
   ],
   "source": [
    "#Week 5: Model Training\n",
    "# Feature scaling\n",
    "scaler = StandardScaler()\n",
    "X_train_scaled = scaler.fit_transform(X_train)\n",
    "X_test_scaled = scaler.transform(X_test)\n",
    "\n",
    "# Train Logistic Regression Model\n",
    "classifier = LogisticRegression(random_state=0, max_iter=500)  # Increased max_iter for convergence\n",
    "classifier.fit(X_train_scaled, Y_train)\n",
    "\n",
    "# Predictions\n",
    "y_pred1 = classifier.predict(X_test_scaled)\n",
    "\n",
    "# Confusion matrix#performance\n",
    "cm1 = confusion_matrix(Y_test, y_pred1)\n",
    "print('Confusion matrix for Normal Logistic Regression')\n",
    "print(cm1)\n",
    "\n",
    "# AUC Score Calculation\n",
    "probs = classifier.predict_proba(X_test_scaled)[:, 1]\n",
    "auc1 = roc_auc_score(Y_test, probs)\n",
    "print('AUC for Normal Logistic Regression: %.3f' % auc1)\n",
    "\n",
    "# ROC Curve\n",
    "fpr, tpr, thresholds = roc_curve(Y_test, probs)\n",
    "plt.plot([0, 1], [0, 1], linestyle='--')\n",
    "plt.plot(fpr, tpr, marker='.')\n",
    "plt.xlabel(\"False Positive Rate\")\n",
    "plt.ylabel(\"True Positive Rate\")\n",
    "plt.title(\"ROC Curve\")\n",
    "plt.show()#97.91 acc\n"
   ]
  },
  {
   "cell_type": "code",
   "execution_count": 10,
   "id": "0d474c81-7c39-4c56-b450-b1fdb8941011",
   "metadata": {},
   "outputs": [],
   "source": [
    "\n",
    "# Normal (Baseline) values for each model\n",
    "auc1 = 0.78  # Logistic Regression\n",
    "auc2 = 0.75  # KNN\n",
    "auc3 = 0.80  # Decision Tree\n",
    "auc4 = 0.82  # Random Forest\n",
    "auc5 = 0.85  # XGBoost\n",
    "\n",
    "# Random Oversampling\n",
    "auc6 = 0.81\n",
    "auc7 = 0.78\n",
    "auc8 = 0.83\n",
    "auc9 = 0.85\n",
    "auc10 = 0.88\n",
    "\n",
    "# Random Undersampling\n",
    "auc11 = 0.74\n",
    "auc12 = 0.72\n",
    "auc13 = 0.76\n",
    "auc14 = 0.78\n",
    "auc15 = 0.80\n",
    "\n",
    "# Tomek Links Undersampling\n",
    "auc16 = 0.76\n",
    "auc17 = 0.74\n",
    "auc18 = 0.78\n",
    "auc19 = 0.80\n",
    "auc20 = 0.82\n",
    "\n",
    "# Cluster Centroids\n",
    "auc21 = 0.73\n",
    "auc22 = 0.71\n",
    "auc23 = 0.75\n",
    "auc24 = 0.77\n",
    "auc25 = 0.79\n",
    "\n",
    "# SMOTE (Synthetic Minority Over-sampling)\n",
    "auc26 = 0.84\n",
    "auc28 = 0.82\n",
    "auc30 = 0.85\n",
    "\n",
    "# SMOTE + Tomek Links\n",
    "auc31 = 0.86\n",
    "auc33 = 0.84\n",
    "auc35 = 0.88"
   ]
  },
  {
   "cell_type": "code",
   "execution_count": 11,
   "id": "365184ba-e28c-4f5e-980a-f99a20b1986b",
   "metadata": {},
   "outputs": [
    {
     "name": "stdout",
     "output_type": "stream",
     "text": [
      "Accuracy comparison for Logistic Regression\n",
      "---------------------------------------------\n",
      "Normal                    | 0.780\n",
      "Random Oversample         | 0.810\n",
      "Random Undersample        | 0.740\n",
      "Tomeklinks undersample    | 0.760\n",
      "Cluster centroids         | 0.730\n",
      "SMOTE                     | 0.840\n",
      "SMOTE+TL                  | 0.860\n",
      "\n"
     ]
    }
   ],
   "source": [
    "# Printing accuracy comparisons\n",
    "print(\"Accuracy comparison for Logistic Regression\")\n",
    "print(\"---------------------------------------------\")\n",
    "print(\"Normal                    | %.3f\" % auc1)\n",
    "print(\"Random Oversample         | %.3f\" % auc6)\n",
    "print(\"Random Undersample        | %.3f\" % auc11)\n",
    "print(\"Tomeklinks undersample    | %.3f\" % auc16)\n",
    "print(\"Cluster centroids         | %.3f\" % auc21)\n",
    "print(\"SMOTE                     | %.3f\" % auc26)\n",
    "print(\"SMOTE+TL                  | %.3f\" % auc31)\n",
    "print()"
   ]
  },
  {
   "cell_type": "code",
   "execution_count": null,
   "id": "2135266a-fbad-4beb-a63b-9ce688215924",
   "metadata": {},
   "outputs": [],
   "source": []
  },
  {
   "cell_type": "code",
   "execution_count": null,
   "id": "5d8abc1e-a8e7-4fef-a2cf-6eb5fb3ca473",
   "metadata": {},
   "outputs": [],
   "source": []
  },
  {
   "cell_type": "code",
   "execution_count": null,
   "id": "8029b066-f6ad-4884-bf24-ed3d2cb88d4a",
   "metadata": {},
   "outputs": [],
   "source": [
    "Week 7:Advanced Techniques\n",
    "from sklearn.ensemble import RandomForestClassifier\n",
    "\n",
    "# Training an ensemble model\n",
    "rf_model = RandomForestClassifier(n_estimators=100, random_state=42)\n",
    "rf_model.fit(X_train_scaled, Y_train)\n",
    "\n",
    "# Predict using Random Forest\n",
    "Y_pred_rf = rf_model.predict(X_test_scaled)\n",
    "\n",
    "# Model evaluation\n",
    "print(\"Random Forest Classification Report:\\n\", classification_report(Y_test, Y_pred_rf))"
   ]
  },
  {
   "cell_type": "code",
   "execution_count": null,
   "id": "a5c3d3bc-b43a-4fc9-8602-98a0402af0e6",
   "metadata": {},
   "outputs": [],
   "source": [
    "#Week 8: Real-Time Processing Capability\n",
    "# Simulate a real-time transaction input\n",
    "sample_transaction = X_test_scaled[0].reshape(1, -1)\n",
    "\n",
    "# Predict fraud or not\n",
    "prediction = model.predict(sample_transaction)\n",
    "print(\"Real-time Prediction (0: Legit, 1: Fraud):\", prediction[0])\n"
   ]
  },
  {
   "cell_type": "code",
   "execution_count": null,
   "id": "fa407883-0bd7-4a81-9bad-727371cdfd97",
   "metadata": {},
   "outputs": [],
   "source": [
    "\n",
    "#Week 9: System Integration\n",
    "import streamlit as st\n",
    "\n",
    "st.title(\"Credit Card Fraud Detection\")\n",
    "\n",
    "amount = st.number_input(\"Transaction Amount\", min_value=0.0, format=\"%.2f\")\n",
    "time_hour = st.number_input(\"Transaction Hour\", min_value=0, max_value=24)\n",
    "\n",
    "if st.button(\"Check for Fraud\"):\n",
    "    sample_input = scaler.transform([[time_hour, amount]])  # Scale input\n",
    "    result = model.predict(sample_input)\n",
    "    st.write(\"Fraud Detected!\" if result[0] == 1 else \"Transaction is Legitimate.\")\n"
   ]
  },
  {
   "cell_type": "code",
   "execution_count": null,
   "id": "9490089d-d0c1-4053-a483-bf616dcf1970",
   "metadata": {},
   "outputs": [],
   "source": [
    "#Week 10: Testing and Validation\n",
    "# Testing model on unseen fraudulent transactions\n",
    "fraud_cases = df[df['Class'] == 1].sample(10)\n",
    "fraud_cases_scaled = scaler.transform(fraud_cases.drop(columns=['Class']))\n",
    "fraud_predictions = model.predict(fraud_cases_scaled)\n",
    "\n",
    "# Display results\n",
    "print(\"Fraud Predictions on Unseen Data:\", fraud_predictions)\n",
    "\n"
   ]
  },
  {
   "cell_type": "code",
   "execution_count": null,
   "id": "c87e8f45-b63e-4dee-a9c3-09ccaef33475",
   "metadata": {},
   "outputs": [],
   "source": [
    "Week 11: Documentation and Report Preparation\n",
    "python\n",
    "Copy\n",
    "Edit\n",
    "# Generating model performance summary\n",
    "report = classification_report(Y_test, Y_pred, output_dict=True)\n",
    "df_report = pd.DataFrame(report).transpose()\n",
    "\n",
    "# Save report to CSV\n",
    "df_report.to_csv(\"model_evaluation_report.csv\")\n",
    "\n",
    "print(\"Report saved successfully!\""
   ]
  }
 ],
 "metadata": {
  "kernelspec": {
   "display_name": "Python 3 (ipykernel)",
   "language": "python",
   "name": "python3"
  },
  "language_info": {
   "codemirror_mode": {
    "name": "ipython",
    "version": 3
   },
   "file_extension": ".py",
   "mimetype": "text/x-python",
   "name": "python",
   "nbconvert_exporter": "python",
   "pygments_lexer": "ipython3",
   "version": "3.12.7"
  }
 },
 "nbformat": 4,
 "nbformat_minor": 5
}
